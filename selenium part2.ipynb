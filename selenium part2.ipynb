{
 "cells": [
  {
   "cell_type": "code",
   "execution_count": 5,
   "id": "4bfa741d",
   "metadata": {},
   "outputs": [],
   "source": [
    "from selenium import webdriver\n",
    "from selenium.webdriver.chrome.options import Options\n",
    "\n",
    "from selenium.webdriver.chrome.service import Service\n",
    "from selenium.webdriver.common.by import By\n",
    "import time\n",
    "import pandas as pd\n",
    "import re"
   ]
  },
  {
   "cell_type": "code",
   "execution_count": 6,
   "id": "b96b3b22",
   "metadata": {},
   "outputs": [
    {
     "name": "stderr",
     "output_type": "stream",
     "text": [
      "There was an error managing chromedriver (error sending request for url (https://googlechromelabs.github.io/chrome-for-testing/known-good-versions-with-downloads.json): error trying to connect: dns error: No such host is known. (os error 11001)); using driver found in the cache\n"
     ]
    }
   ],
   "source": [
    "# creates a new browser\n",
    "driver = webdriver.Chrome()"
   ]
  },
  {
   "cell_type": "code",
   "execution_count": 4,
   "id": "0eecec28",
   "metadata": {},
   "outputs": [
    {
     "ename": "WebDriverException",
     "evalue": "Message: unknown error: net::ERR_NAME_NOT_RESOLVED\n  (Session info: chrome=122.0.6261.95)\nStacktrace:\n\tGetHandleVerifier [0x00007FF648EF7012+3522402]\n\t(No symbol) [0x00007FF648B18352]\n\t(No symbol) [0x00007FF6489C5ABB]\n\t(No symbol) [0x00007FF6489C1760]\n\t(No symbol) [0x00007FF6489B4C7D]\n\t(No symbol) [0x00007FF6489B3C8D]\n\t(No symbol) [0x00007FF6489B2EDC]\n\t(No symbol) [0x00007FF6489B2E7F]\n\t(No symbol) [0x00007FF6489B1385]\n\t(No symbol) [0x00007FF6489B1C6C]\n\t(No symbol) [0x00007FF6489C8149]\n\t(No symbol) [0x00007FF648A4C717]\n\t(No symbol) [0x00007FF648A2F05A]\n\t(No symbol) [0x00007FF648A4BDA3]\n\t(No symbol) [0x00007FF648A2EE03]\n\t(No symbol) [0x00007FF6489FF4D4]\n\t(No symbol) [0x00007FF648A005F1]\n\tGetHandleVerifier [0x00007FF648F29B9D+3730157]\n\tGetHandleVerifier [0x00007FF648F7F02D+4079485]\n\tGetHandleVerifier [0x00007FF648F775D3+4048163]\n\tGetHandleVerifier [0x00007FF648C4A649+718233]\n\t(No symbol) [0x00007FF648B24A3F]\n\t(No symbol) [0x00007FF648B1FA94]\n\t(No symbol) [0x00007FF648B1FBC2]\n\t(No symbol) [0x00007FF648B0F2E4]\n\tBaseThreadInitThunk [0x00007FF89B9B4034+20]\n\tRtlUserThreadStart [0x00007FF89C373691+33]\n",
     "output_type": "error",
     "traceback": [
      "\u001b[1;31m---------------------------------------------------------------------------\u001b[0m",
      "\u001b[1;31mWebDriverException\u001b[0m                        Traceback (most recent call last)",
      "Cell \u001b[1;32mIn[4], line 1\u001b[0m\n\u001b[1;32m----> 1\u001b[0m driver\u001b[38;5;241m.\u001b[39mget(\u001b[38;5;124m\"\u001b[39m\u001b[38;5;124mhttps://collegedunia.com/engineering-colleges\u001b[39m\u001b[38;5;124m\"\u001b[39m)\n",
      "File \u001b[1;32m~\\anaconda3\\Lib\\site-packages\\selenium\\webdriver\\remote\\webdriver.py:356\u001b[0m, in \u001b[0;36mWebDriver.get\u001b[1;34m(self, url)\u001b[0m\n\u001b[0;32m    354\u001b[0m \u001b[38;5;28;01mdef\u001b[39;00m \u001b[38;5;21mget\u001b[39m(\u001b[38;5;28mself\u001b[39m, url: \u001b[38;5;28mstr\u001b[39m) \u001b[38;5;241m-\u001b[39m\u001b[38;5;241m>\u001b[39m \u001b[38;5;28;01mNone\u001b[39;00m:\n\u001b[0;32m    355\u001b[0m \u001b[38;5;250m    \u001b[39m\u001b[38;5;124;03m\"\"\"Loads a web page in the current browser session.\"\"\"\u001b[39;00m\n\u001b[1;32m--> 356\u001b[0m     \u001b[38;5;28mself\u001b[39m\u001b[38;5;241m.\u001b[39mexecute(Command\u001b[38;5;241m.\u001b[39mGET, {\u001b[38;5;124m\"\u001b[39m\u001b[38;5;124murl\u001b[39m\u001b[38;5;124m\"\u001b[39m: url})\n",
      "File \u001b[1;32m~\\anaconda3\\Lib\\site-packages\\selenium\\webdriver\\remote\\webdriver.py:347\u001b[0m, in \u001b[0;36mWebDriver.execute\u001b[1;34m(self, driver_command, params)\u001b[0m\n\u001b[0;32m    345\u001b[0m response \u001b[38;5;241m=\u001b[39m \u001b[38;5;28mself\u001b[39m\u001b[38;5;241m.\u001b[39mcommand_executor\u001b[38;5;241m.\u001b[39mexecute(driver_command, params)\n\u001b[0;32m    346\u001b[0m \u001b[38;5;28;01mif\u001b[39;00m response:\n\u001b[1;32m--> 347\u001b[0m     \u001b[38;5;28mself\u001b[39m\u001b[38;5;241m.\u001b[39merror_handler\u001b[38;5;241m.\u001b[39mcheck_response(response)\n\u001b[0;32m    348\u001b[0m     response[\u001b[38;5;124m\"\u001b[39m\u001b[38;5;124mvalue\u001b[39m\u001b[38;5;124m\"\u001b[39m] \u001b[38;5;241m=\u001b[39m \u001b[38;5;28mself\u001b[39m\u001b[38;5;241m.\u001b[39m_unwrap_value(response\u001b[38;5;241m.\u001b[39mget(\u001b[38;5;124m\"\u001b[39m\u001b[38;5;124mvalue\u001b[39m\u001b[38;5;124m\"\u001b[39m, \u001b[38;5;28;01mNone\u001b[39;00m))\n\u001b[0;32m    349\u001b[0m     \u001b[38;5;28;01mreturn\u001b[39;00m response\n",
      "File \u001b[1;32m~\\anaconda3\\Lib\\site-packages\\selenium\\webdriver\\remote\\errorhandler.py:229\u001b[0m, in \u001b[0;36mErrorHandler.check_response\u001b[1;34m(self, response)\u001b[0m\n\u001b[0;32m    227\u001b[0m         alert_text \u001b[38;5;241m=\u001b[39m value[\u001b[38;5;124m\"\u001b[39m\u001b[38;5;124malert\u001b[39m\u001b[38;5;124m\"\u001b[39m]\u001b[38;5;241m.\u001b[39mget(\u001b[38;5;124m\"\u001b[39m\u001b[38;5;124mtext\u001b[39m\u001b[38;5;124m\"\u001b[39m)\n\u001b[0;32m    228\u001b[0m     \u001b[38;5;28;01mraise\u001b[39;00m exception_class(message, screen, stacktrace, alert_text)  \u001b[38;5;66;03m# type: ignore[call-arg]  # mypy is not smart enough here\u001b[39;00m\n\u001b[1;32m--> 229\u001b[0m \u001b[38;5;28;01mraise\u001b[39;00m exception_class(message, screen, stacktrace)\n",
      "\u001b[1;31mWebDriverException\u001b[0m: Message: unknown error: net::ERR_NAME_NOT_RESOLVED\n  (Session info: chrome=122.0.6261.95)\nStacktrace:\n\tGetHandleVerifier [0x00007FF648EF7012+3522402]\n\t(No symbol) [0x00007FF648B18352]\n\t(No symbol) [0x00007FF6489C5ABB]\n\t(No symbol) [0x00007FF6489C1760]\n\t(No symbol) [0x00007FF6489B4C7D]\n\t(No symbol) [0x00007FF6489B3C8D]\n\t(No symbol) [0x00007FF6489B2EDC]\n\t(No symbol) [0x00007FF6489B2E7F]\n\t(No symbol) [0x00007FF6489B1385]\n\t(No symbol) [0x00007FF6489B1C6C]\n\t(No symbol) [0x00007FF6489C8149]\n\t(No symbol) [0x00007FF648A4C717]\n\t(No symbol) [0x00007FF648A2F05A]\n\t(No symbol) [0x00007FF648A4BDA3]\n\t(No symbol) [0x00007FF648A2EE03]\n\t(No symbol) [0x00007FF6489FF4D4]\n\t(No symbol) [0x00007FF648A005F1]\n\tGetHandleVerifier [0x00007FF648F29B9D+3730157]\n\tGetHandleVerifier [0x00007FF648F7F02D+4079485]\n\tGetHandleVerifier [0x00007FF648F775D3+4048163]\n\tGetHandleVerifier [0x00007FF648C4A649+718233]\n\t(No symbol) [0x00007FF648B24A3F]\n\t(No symbol) [0x00007FF648B1FA94]\n\t(No symbol) [0x00007FF648B1FBC2]\n\t(No symbol) [0x00007FF648B0F2E4]\n\tBaseThreadInitThunk [0x00007FF89B9B4034+20]\n\tRtlUserThreadStart [0x00007FF89C373691+33]\n"
     ]
    }
   ],
   "source": [
    "driver.get(\"https://collegedunia.com/engineering-colleges\")"
   ]
  },
  {
   "cell_type": "code",
   "execution_count": null,
   "id": "72722ae6",
   "metadata": {},
   "outputs": [],
   "source": [
    "ALL_IMG = driver.find_elements(By.TAG_NAME,\"img\")"
   ]
  },
  {
   "cell_type": "code",
   "execution_count": null,
   "id": "c0cb617a",
   "metadata": {},
   "outputs": [],
   "source": [
    "len(ALL_IMG)"
   ]
  },
  {
   "cell_type": "code",
   "execution_count": null,
   "id": "6837c7fe",
   "metadata": {},
   "outputs": [],
   "source": [
    "all_clg = driver.find_elements(By.CLASS_NAME,'jsx-1948362374')"
   ]
  },
  {
   "cell_type": "code",
   "execution_count": null,
   "id": "b7cd54b7",
   "metadata": {},
   "outputs": [],
   "source": [
    "len(all_clg)"
   ]
  },
  {
   "cell_type": "code",
   "execution_count": null,
   "id": "4531b52c",
   "metadata": {},
   "outputs": [],
   "source": [
    "all_clg[0].text"
   ]
  },
  {
   "cell_type": "code",
   "execution_count": null,
   "id": "5cff0995",
   "metadata": {},
   "outputs": [],
   "source": [
    "td = all_clg[0].find_elements(By.TAG_NAME,'td')"
   ]
  },
  {
   "cell_type": "code",
   "execution_count": null,
   "id": "c914e502",
   "metadata": {},
   "outputs": [],
   "source": [
    "len(td)"
   ]
  },
  {
   "cell_type": "code",
   "execution_count": null,
   "id": "9ccd6a8f",
   "metadata": {},
   "outputs": [],
   "source": [
    "td[-2].text"
   ]
  },
  {
   "cell_type": "code",
   "execution_count": null,
   "id": "29d31cb7",
   "metadata": {},
   "outputs": [],
   "source": [
    "td[1].text"
   ]
  },
  {
   "cell_type": "code",
   "execution_count": null,
   "id": "ae7ff7d7",
   "metadata": {},
   "outputs": [],
   "source": [
    "imgs = all_clg[0].find_element(By.TAG_NAME,'img')"
   ]
  },
  {
   "cell_type": "code",
   "execution_count": null,
   "id": "dccb7354",
   "metadata": {},
   "outputs": [],
   "source": [
    "imgs.get_attribute('src')"
   ]
  },
  {
   "cell_type": "code",
   "execution_count": null,
   "id": "51cbd584",
   "metadata": {},
   "outputs": [],
   "source": [
    "col = driver.find_elements(By.CLASS_NAME,'clg-name-address')"
   ]
  },
  {
   "cell_type": "code",
   "execution_count": null,
   "id": "70defb5a",
   "metadata": {},
   "outputs": [],
   "source": [
    "len(col)"
   ]
  },
  {
   "cell_type": "code",
   "execution_count": null,
   "id": "0f6c1492",
   "metadata": {},
   "outputs": [],
   "source": [
    "col[0].find_element(By.TAG_NAME,'span').text"
   ]
  },
  {
   "cell_type": "code",
   "execution_count": null,
   "id": "9468ccb9",
   "metadata": {},
   "outputs": [],
   "source": [
    "col[0].find_element(By.TAG_NAME,\"h3\").text"
   ]
  },
  {
   "cell_type": "code",
   "execution_count": null,
   "id": "af83f79c",
   "metadata": {},
   "outputs": [],
   "source": [
    "td[-2].find_elements(By.TAG_NAME,'span')"
   ]
  },
  {
   "cell_type": "code",
   "execution_count": null,
   "id": "56c273aa",
   "metadata": {},
   "outputs": [],
   "source": []
  },
  {
   "cell_type": "code",
   "execution_count": null,
   "id": "ac675a8e",
   "metadata": {},
   "outputs": [],
   "source": []
  }
 ],
 "metadata": {
  "kernelspec": {
   "display_name": "Python 3 (ipykernel)",
   "language": "python",
   "name": "python3"
  },
  "language_info": {
   "codemirror_mode": {
    "name": "ipython",
    "version": 3
   },
   "file_extension": ".py",
   "mimetype": "text/x-python",
   "name": "python",
   "nbconvert_exporter": "python",
   "pygments_lexer": "ipython3",
   "version": "3.11.4"
  }
 },
 "nbformat": 4,
 "nbformat_minor": 5
}
