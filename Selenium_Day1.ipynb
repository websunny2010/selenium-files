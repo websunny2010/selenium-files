{
 "cells": [
  {
   "cell_type": "markdown",
   "id": "33e133ee",
   "metadata": {},
   "source": [
    "# Selenium\n",
    "- a framework to automate a web browser.\n",
    "- generally used for testing web applications."
   ]
  },
  {
   "cell_type": "markdown",
   "id": "3809e544",
   "metadata": {},
   "source": [
    "# Installing Selenium :\n",
    "&emsp;&emsp; `pip install selenium`"
   ]
  },
  {
   "cell_type": "markdown",
   "id": "fad3c8e8",
   "metadata": {},
   "source": [
    "# Web Drivers\n",
    " \n",
    "web Drivers in selenium connects the code(Python) with the real browsers.\n"
   ]
  },
  {
   "cell_type": "code",
   "execution_count": 1,
   "id": "66e674ed",
   "metadata": {},
   "outputs": [
    {
     "name": "stdout",
     "output_type": "stream",
     "text": [
      "Requirement already satisfied: Selenium in c:\\users\\dell\\anaconda3\\lib\\site-packages (4.18.1)\n",
      "Requirement already satisfied: urllib3[socks]<3,>=1.26 in c:\\users\\dell\\anaconda3\\lib\\site-packages (from Selenium) (1.26.16)\n",
      "Requirement already satisfied: trio~=0.17 in c:\\users\\dell\\anaconda3\\lib\\site-packages (from Selenium) (0.24.0)\n",
      "Requirement already satisfied: trio-websocket~=0.9 in c:\\users\\dell\\anaconda3\\lib\\site-packages (from Selenium) (0.11.1)\n",
      "Requirement already satisfied: certifi>=2021.10.8 in c:\\users\\dell\\anaconda3\\lib\\site-packages (from Selenium) (2023.5.7)\n",
      "Requirement already satisfied: typing_extensions>=4.9.0 in c:\\users\\dell\\anaconda3\\lib\\site-packages (from Selenium) (4.10.0)\n",
      "Requirement already satisfied: attrs>=20.1.0 in c:\\users\\dell\\anaconda3\\lib\\site-packages (from trio~=0.17->Selenium) (22.1.0)\n",
      "Requirement already satisfied: sortedcontainers in c:\\users\\dell\\anaconda3\\lib\\site-packages (from trio~=0.17->Selenium) (2.4.0)\n",
      "Requirement already satisfied: idna in c:\\users\\dell\\anaconda3\\lib\\site-packages (from trio~=0.17->Selenium) (3.4)\n",
      "Requirement already satisfied: outcome in c:\\users\\dell\\anaconda3\\lib\\site-packages (from trio~=0.17->Selenium) (1.3.0.post0)\n",
      "Requirement already satisfied: sniffio>=1.3.0 in c:\\users\\dell\\anaconda3\\lib\\site-packages (from trio~=0.17->Selenium) (1.3.1)\n",
      "Requirement already satisfied: cffi>=1.14 in c:\\users\\dell\\anaconda3\\lib\\site-packages (from trio~=0.17->Selenium) (1.15.1)\n",
      "Requirement already satisfied: wsproto>=0.14 in c:\\users\\dell\\anaconda3\\lib\\site-packages (from trio-websocket~=0.9->Selenium) (1.2.0)\n",
      "Requirement already satisfied: PySocks!=1.5.7,<2.0,>=1.5.6 in c:\\users\\dell\\anaconda3\\lib\\site-packages (from urllib3[socks]<3,>=1.26->Selenium) (1.7.1)\n",
      "Requirement already satisfied: pycparser in c:\\users\\dell\\anaconda3\\lib\\site-packages (from cffi>=1.14->trio~=0.17->Selenium) (2.21)\n",
      "Requirement already satisfied: h11<1,>=0.9.0 in c:\\users\\dell\\anaconda3\\lib\\site-packages (from wsproto>=0.14->trio-websocket~=0.9->Selenium) (0.14.0)\n"
     ]
    }
   ],
   "source": [
    "!pip install Selenium"
   ]
  },
  {
   "cell_type": "code",
   "execution_count": 1,
   "id": "1affb4c6",
   "metadata": {},
   "outputs": [],
   "source": [
    "from selenium import webdriver\n",
    "from selenium.webdriver.chrome.options import Options\n",
    "\n",
    "from selenium.webdriver.chrome.service import Service\n",
    "from selenium.webdriver.common.by import By\n",
    "import time\n",
    "import pandas as pd\n",
    "import re"
   ]
  },
  {
   "cell_type": "code",
   "execution_count": 24,
   "id": "addf5c54",
   "metadata": {},
   "outputs": [],
   "source": [
    "# creates a new browser\n",
    "driver = webdriver.Chrome()"
   ]
  },
  {
   "cell_type": "code",
   "execution_count": 25,
   "id": "39f0e976",
   "metadata": {},
   "outputs": [],
   "source": [
    "#driver.get(\"https://www.google.com\")\n",
    "#driver.get(\"https://www.naukri.com\")\n",
    "driver.get(\"https://facebook.com\")"
   ]
  },
  {
   "cell_type": "code",
   "execution_count": 26,
   "id": "b7203fce",
   "metadata": {},
   "outputs": [
    {
     "data": {
      "text/plain": [
       "'Facebook – log in or sign up'"
      ]
     },
     "execution_count": 26,
     "metadata": {},
     "output_type": "execute_result"
    }
   ],
   "source": [
    "# to display the title of website\n",
    "driver.title"
   ]
  },
  {
   "cell_type": "code",
   "execution_count": 27,
   "id": "b05901ea",
   "metadata": {},
   "outputs": [],
   "source": [
    "driver.close()"
   ]
  },
  {
   "cell_type": "code",
   "execution_count": 28,
   "id": "91694d70",
   "metadata": {},
   "outputs": [],
   "source": [
    "driver= webdriver.Chrome()"
   ]
  },
  {
   "cell_type": "code",
   "execution_count": 29,
   "id": "095b179d",
   "metadata": {},
   "outputs": [],
   "source": [
    "driver.get(\"https://en.wikipedia.org/wiki/List_of_countries_and_dependencies_and_their_capitals_in_native_languages\")"
   ]
  },
  {
   "cell_type": "code",
   "execution_count": 30,
   "id": "10f914bc",
   "metadata": {},
   "outputs": [],
   "source": [
    "all_tables=driver.find_elements(By.CLASS_NAME,\"wikitable\")"
   ]
  },
  {
   "cell_type": "code",
   "execution_count": 31,
   "id": "30d52fad",
   "metadata": {},
   "outputs": [
    {
     "data": {
      "text/plain": [
       "25"
      ]
     },
     "execution_count": 31,
     "metadata": {},
     "output_type": "execute_result"
    }
   ],
   "source": [
    "len(all_tables)"
   ]
  },
  {
   "cell_type": "code",
   "execution_count": 32,
   "id": "a9db7300",
   "metadata": {},
   "outputs": [],
   "source": [
    "df = pd.DataFrame({}, columns=['Country', 'Capital', 'Language'])"
   ]
  },
  {
   "cell_type": "code",
   "execution_count": 40,
   "id": "4983b3b2",
   "metadata": {},
   "outputs": [
    {
     "data": {
      "text/plain": [
       "<bound method WebDriver.maximize_window of <selenium.webdriver.chrome.webdriver.WebDriver (session=\"1e604c5b3eadedaad72d128822b18ea2\")>>"
      ]
     },
     "execution_count": 40,
     "metadata": {},
     "output_type": "execute_result"
    }
   ],
   "source": [
    "driver.maximize_window"
   ]
  },
  {
   "cell_type": "code",
   "execution_count": 41,
   "id": "7ff6c873",
   "metadata": {},
   "outputs": [],
   "source": [
    "for one_table in all_tables:\n",
    "    all_rows= one_table.find_elements(By.TAG_NAME,'tr')[1:]\n",
    "    for tr in all_rows:\n",
    "        all_tds = tr.find_elements(By.TAG_NAME,'td')\n",
    "\n",
    "        country = all_tds[0].text\n",
    "        capital = all_tds[1].text\n",
    "        language = all_tds[-1].text\n",
    "\n",
    "        ele = {'Country': country, 'Capital' : capital, 'Language' : language}\n",
    "        \n",
    "        #df = df.append(ele, ignore_index=True) # append method is removed from pandas\n",
    "        df = pd.concat([df, pd.DataFrame([ele])], ignore_index=True)"
   ]
  },
  {
   "cell_type": "code",
   "execution_count": 35,
   "id": "460d44a5",
   "metadata": {},
   "outputs": [
    {
     "data": {
      "text/html": [
       "<div>\n",
       "<style scoped>\n",
       "    .dataframe tbody tr th:only-of-type {\n",
       "        vertical-align: middle;\n",
       "    }\n",
       "\n",
       "    .dataframe tbody tr th {\n",
       "        vertical-align: top;\n",
       "    }\n",
       "\n",
       "    .dataframe thead th {\n",
       "        text-align: right;\n",
       "    }\n",
       "</style>\n",
       "<table border=\"1\" class=\"dataframe\">\n",
       "  <thead>\n",
       "    <tr style=\"text-align: right;\">\n",
       "      <th></th>\n",
       "      <th>Country</th>\n",
       "      <th>Capital</th>\n",
       "      <th>Language</th>\n",
       "    </tr>\n",
       "  </thead>\n",
       "  <tbody>\n",
       "    <tr>\n",
       "      <th>0</th>\n",
       "      <td>Afghanistan</td>\n",
       "      <td>Kabul</td>\n",
       "      <td>Pashto/Dari\\n(Arabic script)</td>\n",
       "    </tr>\n",
       "    <tr>\n",
       "      <th>1</th>\n",
       "      <td>Albania</td>\n",
       "      <td>Tirana</td>\n",
       "      <td>Albanian</td>\n",
       "    </tr>\n",
       "    <tr>\n",
       "      <th>2</th>\n",
       "      <td>Algeria</td>\n",
       "      <td>Algiers</td>\n",
       "      <td>Berber language\\n(Tifinagh script)\\nArabic\\n(A...</td>\n",
       "    </tr>\n",
       "    <tr>\n",
       "      <th>3</th>\n",
       "      <td>American Samoa[1]</td>\n",
       "      <td>Pago Pago</td>\n",
       "      <td>Samoan\\nEnglish</td>\n",
       "    </tr>\n",
       "    <tr>\n",
       "      <th>4</th>\n",
       "      <td>Andorra</td>\n",
       "      <td>Andorra la Vella</td>\n",
       "      <td>Catalan</td>\n",
       "    </tr>\n",
       "    <tr>\n",
       "      <th>...</th>\n",
       "      <td>...</td>\n",
       "      <td>...</td>\n",
       "      <td>...</td>\n",
       "    </tr>\n",
       "    <tr>\n",
       "      <th>240</th>\n",
       "      <td>Vietnam</td>\n",
       "      <td>Hanoi</td>\n",
       "      <td>Vietnamese</td>\n",
       "    </tr>\n",
       "    <tr>\n",
       "      <th>241</th>\n",
       "      <td>Wallis and Futuna[10]</td>\n",
       "      <td>Mata Utu</td>\n",
       "      <td>French\\nWallisian\\nFutunan</td>\n",
       "    </tr>\n",
       "    <tr>\n",
       "      <th>242</th>\n",
       "      <td>Yemen</td>\n",
       "      <td>Sana'a</td>\n",
       "      <td>Arabic\\n(Arabic script)</td>\n",
       "    </tr>\n",
       "    <tr>\n",
       "      <th>243</th>\n",
       "      <td>Zambia</td>\n",
       "      <td>Lusaka</td>\n",
       "      <td>English, Bemba, Chewa</td>\n",
       "    </tr>\n",
       "    <tr>\n",
       "      <th>244</th>\n",
       "      <td>Zimbabwe</td>\n",
       "      <td>Harare</td>\n",
       "      <td>English, Shona</td>\n",
       "    </tr>\n",
       "  </tbody>\n",
       "</table>\n",
       "<p>245 rows × 3 columns</p>\n",
       "</div>"
      ],
      "text/plain": [
       "                   Country           Capital  \\\n",
       "0              Afghanistan             Kabul   \n",
       "1                  Albania            Tirana   \n",
       "2                  Algeria           Algiers   \n",
       "3        American Samoa[1]         Pago Pago   \n",
       "4                  Andorra  Andorra la Vella   \n",
       "..                     ...               ...   \n",
       "240                Vietnam             Hanoi   \n",
       "241  Wallis and Futuna[10]          Mata Utu   \n",
       "242                  Yemen            Sana'a   \n",
       "243                 Zambia            Lusaka   \n",
       "244               Zimbabwe            Harare   \n",
       "\n",
       "                                              Language  \n",
       "0                         Pashto/Dari\\n(Arabic script)  \n",
       "1                                             Albanian  \n",
       "2    Berber language\\n(Tifinagh script)\\nArabic\\n(A...  \n",
       "3                                      Samoan\\nEnglish  \n",
       "4                                              Catalan  \n",
       "..                                                 ...  \n",
       "240                                         Vietnamese  \n",
       "241                         French\\nWallisian\\nFutunan  \n",
       "242                            Arabic\\n(Arabic script)  \n",
       "243                              English, Bemba, Chewa  \n",
       "244                                     English, Shona  \n",
       "\n",
       "[245 rows x 3 columns]"
      ]
     },
     "execution_count": 35,
     "metadata": {},
     "output_type": "execute_result"
    }
   ],
   "source": [
    "df"
   ]
  },
  {
   "cell_type": "code",
   "execution_count": 36,
   "id": "807a1856",
   "metadata": {},
   "outputs": [],
   "source": [
    "df['Language']=df['Language'].apply(lambda x: x[:-1])"
   ]
  },
  {
   "cell_type": "code",
   "execution_count": 37,
   "id": "e1196968",
   "metadata": {},
   "outputs": [],
   "source": [
    "df['Country'] =  df['Country'].apply(lambda x : re.sub('\\[.*\\]', \"\", x.rstrip()))"
   ]
  },
  {
   "cell_type": "code",
   "execution_count": 38,
   "id": "0d6aefda",
   "metadata": {},
   "outputs": [
    {
     "data": {
      "text/html": [
       "<div>\n",
       "<style scoped>\n",
       "    .dataframe tbody tr th:only-of-type {\n",
       "        vertical-align: middle;\n",
       "    }\n",
       "\n",
       "    .dataframe tbody tr th {\n",
       "        vertical-align: top;\n",
       "    }\n",
       "\n",
       "    .dataframe thead th {\n",
       "        text-align: right;\n",
       "    }\n",
       "</style>\n",
       "<table border=\"1\" class=\"dataframe\">\n",
       "  <thead>\n",
       "    <tr style=\"text-align: right;\">\n",
       "      <th></th>\n",
       "      <th>Country</th>\n",
       "      <th>Capital</th>\n",
       "      <th>Language</th>\n",
       "    </tr>\n",
       "  </thead>\n",
       "  <tbody>\n",
       "    <tr>\n",
       "      <th>0</th>\n",
       "      <td>Afghanistan</td>\n",
       "      <td>Kabul</td>\n",
       "      <td>Pashto/Dari\\n(Arabic script</td>\n",
       "    </tr>\n",
       "    <tr>\n",
       "      <th>1</th>\n",
       "      <td>Albania</td>\n",
       "      <td>Tirana</td>\n",
       "      <td>Albania</td>\n",
       "    </tr>\n",
       "    <tr>\n",
       "      <th>2</th>\n",
       "      <td>Algeria</td>\n",
       "      <td>Algiers</td>\n",
       "      <td>Berber language\\n(Tifinagh script)\\nArabic\\n(A...</td>\n",
       "    </tr>\n",
       "    <tr>\n",
       "      <th>3</th>\n",
       "      <td>American Samoa</td>\n",
       "      <td>Pago Pago</td>\n",
       "      <td>Samoan\\nEnglis</td>\n",
       "    </tr>\n",
       "    <tr>\n",
       "      <th>4</th>\n",
       "      <td>Andorra</td>\n",
       "      <td>Andorra la Vella</td>\n",
       "      <td>Catala</td>\n",
       "    </tr>\n",
       "    <tr>\n",
       "      <th>...</th>\n",
       "      <td>...</td>\n",
       "      <td>...</td>\n",
       "      <td>...</td>\n",
       "    </tr>\n",
       "    <tr>\n",
       "      <th>240</th>\n",
       "      <td>Vietnam</td>\n",
       "      <td>Hanoi</td>\n",
       "      <td>Vietnames</td>\n",
       "    </tr>\n",
       "    <tr>\n",
       "      <th>241</th>\n",
       "      <td>Wallis and Futuna</td>\n",
       "      <td>Mata Utu</td>\n",
       "      <td>French\\nWallisian\\nFutuna</td>\n",
       "    </tr>\n",
       "    <tr>\n",
       "      <th>242</th>\n",
       "      <td>Yemen</td>\n",
       "      <td>Sana'a</td>\n",
       "      <td>Arabic\\n(Arabic script</td>\n",
       "    </tr>\n",
       "    <tr>\n",
       "      <th>243</th>\n",
       "      <td>Zambia</td>\n",
       "      <td>Lusaka</td>\n",
       "      <td>English, Bemba, Chew</td>\n",
       "    </tr>\n",
       "    <tr>\n",
       "      <th>244</th>\n",
       "      <td>Zimbabwe</td>\n",
       "      <td>Harare</td>\n",
       "      <td>English, Shon</td>\n",
       "    </tr>\n",
       "  </tbody>\n",
       "</table>\n",
       "<p>245 rows × 3 columns</p>\n",
       "</div>"
      ],
      "text/plain": [
       "               Country           Capital  \\\n",
       "0          Afghanistan             Kabul   \n",
       "1              Albania            Tirana   \n",
       "2              Algeria           Algiers   \n",
       "3       American Samoa         Pago Pago   \n",
       "4              Andorra  Andorra la Vella   \n",
       "..                 ...               ...   \n",
       "240            Vietnam             Hanoi   \n",
       "241  Wallis and Futuna          Mata Utu   \n",
       "242              Yemen            Sana'a   \n",
       "243             Zambia            Lusaka   \n",
       "244           Zimbabwe            Harare   \n",
       "\n",
       "                                              Language  \n",
       "0                          Pashto/Dari\\n(Arabic script  \n",
       "1                                              Albania  \n",
       "2    Berber language\\n(Tifinagh script)\\nArabic\\n(A...  \n",
       "3                                       Samoan\\nEnglis  \n",
       "4                                               Catala  \n",
       "..                                                 ...  \n",
       "240                                          Vietnames  \n",
       "241                          French\\nWallisian\\nFutuna  \n",
       "242                             Arabic\\n(Arabic script  \n",
       "243                               English, Bemba, Chew  \n",
       "244                                      English, Shon  \n",
       "\n",
       "[245 rows x 3 columns]"
      ]
     },
     "execution_count": 38,
     "metadata": {},
     "output_type": "execute_result"
    }
   ],
   "source": [
    "df"
   ]
  },
  {
   "cell_type": "code",
   "execution_count": 39,
   "id": "bbe2056f",
   "metadata": {},
   "outputs": [],
   "source": [
    "df.to_csv(\"Country_sel.csv\",index=False)"
   ]
  },
  {
   "cell_type": "code",
   "execution_count": null,
   "id": "7990f8a0",
   "metadata": {},
   "outputs": [],
   "source": []
  },
  {
   "cell_type": "code",
   "execution_count": null,
   "id": "154fb8f9",
   "metadata": {},
   "outputs": [],
   "source": []
  },
  {
   "cell_type": "code",
   "execution_count": null,
   "id": "f14f70bc",
   "metadata": {},
   "outputs": [],
   "source": []
  }
 ],
 "metadata": {
  "kernelspec": {
   "display_name": "Python 3 (ipykernel)",
   "language": "python",
   "name": "python3"
  },
  "language_info": {
   "codemirror_mode": {
    "name": "ipython",
    "version": 3
   },
   "file_extension": ".py",
   "mimetype": "text/x-python",
   "name": "python",
   "nbconvert_exporter": "python",
   "pygments_lexer": "ipython3",
   "version": "3.11.4"
  }
 },
 "nbformat": 4,
 "nbformat_minor": 5
}
